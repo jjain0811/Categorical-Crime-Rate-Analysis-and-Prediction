{
  "cells": [
    {
      "cell_type": "markdown",
      "metadata": {
        "id": "view-in-github",
        "colab_type": "text"
      },
      "source": [
        "<a href=\"https://colab.research.google.com/github/jjain0811/Categorical-Crime-Rate-Analysis-and-Prediction/blob/main/Category_Murder.ipynb\" target=\"_parent\"><img src=\"https://colab.research.google.com/assets/colab-badge.svg\" alt=\"Open In Colab\"/></a>"
      ]
    },
    {
      "cell_type": "code",
      "execution_count": null,
      "metadata": {
        "colab": {
          "base_uri": "https://localhost:8080/"
        },
        "id": "3aGFCANddtF6",
        "outputId": "de215355-665f-435d-b11b-44643f9bf217"
      },
      "outputs": [
        {
          "name": "stdout",
          "output_type": "stream",
          "text": [
            "Looking in indexes: https://pypi.org/simple, https://us-python.pkg.dev/colab-wheels/public/simple/\n",
            "Collecting keras-hypetune\n",
            "  Downloading keras_hypetune-0.2.1-py3-none-any.whl (12 kB)\n",
            "Requirement already satisfied: numpy in /usr/local/lib/python3.7/dist-packages (from keras-hypetune) (1.21.6)\n",
            "Collecting hyperopt==0.2.5\n",
            "  Downloading hyperopt-0.2.5-py2.py3-none-any.whl (965 kB)\n",
            "\u001b[K     |████████████████████████████████| 965 kB 5.1 MB/s \n",
            "\u001b[?25hRequirement already satisfied: scipy in /usr/local/lib/python3.7/dist-packages (from hyperopt==0.2.5->keras-hypetune) (1.4.1)\n",
            "Requirement already satisfied: networkx>=2.2 in /usr/local/lib/python3.7/dist-packages (from hyperopt==0.2.5->keras-hypetune) (2.6.3)\n",
            "Requirement already satisfied: six in /usr/local/lib/python3.7/dist-packages (from hyperopt==0.2.5->keras-hypetune) (1.15.0)\n",
            "Requirement already satisfied: cloudpickle in /usr/local/lib/python3.7/dist-packages (from hyperopt==0.2.5->keras-hypetune) (1.3.0)\n",
            "Requirement already satisfied: tqdm in /usr/local/lib/python3.7/dist-packages (from hyperopt==0.2.5->keras-hypetune) (4.64.0)\n",
            "Requirement already satisfied: future in /usr/local/lib/python3.7/dist-packages (from hyperopt==0.2.5->keras-hypetune) (0.16.0)\n"
          ]
        }
      ],
      "source": [
        "!pip install --upgrade keras-hypetune\n",
        "!pip install prettytable"
      ],
      "id": "3aGFCANddtF6"
    },
    {
      "cell_type": "code",
      "execution_count": null,
      "metadata": {
        "id": "CW0VM577dkA2"
      },
      "outputs": [],
      "source": [
        "import os\n",
        "import random\n",
        "import numpy as np\n",
        "import pandas as pd\n",
        "from tqdm import tqdm\n",
        "from scipy import stats\n",
        "import matplotlib.pyplot as plt\n",
        "from prettytable import PrettyTable\n",
        "from sklearn.metrics import mean_squared_error\n",
        "from sklearn.preprocessing import StandardScaler\n",
        "from sklearn.model_selection import train_test_split\n",
        "from statsmodels.tsa.vector_ar.var_model import VAR\n",
        "import tensorflow as tf\n",
        "from tensorflow.keras.layers import *\n",
        "from tensorflow.keras.models import *\n",
        "from tensorflow.keras.callbacks import *\n",
        "from tensorflow.keras.optimizers import *\n",
        "from kerashypetune import KerasRandomSearch, KerasGridSearch\n",
        "from pandas.plotting import register_matplotlib_converters\n",
        "register_matplotlib_converters()\n",
        "plt.rcParams.update({'font.size': 15})"
      ],
      "id": "CW0VM577dkA2"
    },
    {
      "cell_type": "code",
      "execution_count": null,
      "metadata": {
        "id": "KVD6nYVKdkA6"
      },
      "outputs": [],
      "source": [
        "### READ DATA ###\n",
        "\n",
        "df = pd.read_csv('https://docs.google.com/spreadsheets/d/18UOUY4S-iFNxwdwHsNupFunhzgvkql1udtY4_KlBI0w/export?format=csv&gid=1787086033')\n",
        "\n",
        "column_matter = 'Murder'\n",
        "df.drop(['Victim Families and Children','The National Stolen Property Act of 1934'],axis=1,inplace=True)\n",
        "\n",
        "# column_matter = 'Victim Families and Children'\n",
        "# df.drop(['Murder','The National Stolen Property Act of 1934'],axis=1,inplace=True)\n",
        "\n",
        "# column_matter = 'The National Stolen Property Act of 1934'\n",
        "# df.drop(['Victim Families and Children','Murder'],axis=1,inplace=True)\n",
        "\n",
        "# df = pd.read_csv('https://docs.google.com/spreadsheets/d/1diq5R_nTdc59vcwEtoaw3wMPJYAVlO7s0Pnc4PbBAek/export?format=csv&gid=0') # California Data\n",
        "# column_matter = 'Crime Rate'\n",
        "\n",
        "df.dropna(axis=1, inplace=True, how='all')\n",
        "df.dropna(inplace=True)\n",
        "df[column_matter] = [int(float(a.replace(\",\",\"\"))) for a in df[column_matter]] # Comment for california, Victim and Act\n",
        "df[\"Population\"] = [int(float(a.replace(\",\",\"\"))) for a in df[\"Population\"]] # Comment for california\n",
        "df[\"Tourism\"] = [int(float(a.replace(\",\",\"\"))) for a in df[\"Tourism\"]]\n",
        "df[column_matter] = df[column_matter]*100000/df['Population'] # *100 for state, /10 for act and victim\n",
        "print(df.columns)\n",
        "df.tail()"
      ],
      "id": "KVD6nYVKdkA6"
    },
    {
      "cell_type": "code",
      "execution_count": null,
      "metadata": {
        "id": "KqDWYGaBdkA7"
      },
      "outputs": [],
      "source": [
        "### ADJUST AND CLEAN DATA ###\n",
        "n_attr = 8\n",
        "n_tres = 7\n",
        "df_external = pd.DataFrame(df.index)\n",
        "\n",
        "for col in df.columns:\n",
        "\n",
        "    # if df[col].dtype == object: # correct type\n",
        "    #     df[col] = pd.to_numeric(df[col].str.replace(',', '.'))\n",
        "\n",
        "    df[col] = df[col].replace(-200, np.nan) # check nans\n",
        "    print(col, ':', df[col].isna().sum()/len(df))\n",
        "    if df[col][:int(len(df)*0.8)].isna().sum()/int(len(df)*0.8) > 0.5: # at least 50% in train not nan\n",
        "        df.drop(col, axis=1, inplace=True)\n",
        "    else:\n",
        "        df[col] = df[col].interpolate(method='linear', limit_direction='both') # fill nans\n",
        "\n",
        "    if col in ['T','RH','AH']:\n",
        "        df_external[col] = df[col].values\n",
        "        df.drop(col, axis=1, inplace=True)"
      ],
      "id": "KqDWYGaBdkA7"
    },
    {
      "cell_type": "code",
      "execution_count": null,
      "metadata": {
        "id": "fzznCo_RdkA8"
      },
      "outputs": [],
      "source": [
        "### UTILITY FUNCTION FOR CYCLICAL ENCODE VARIABLES ###\n",
        "\n",
        "def cycle_encode(data, cols):\n",
        "\n",
        "    for col in cols:\n",
        "\n",
        "        data[col + '_sin'] = np.sin(2 * np.pi * data[col]/data[col].max())\n",
        "        data[col + '_cos'] = np.cos(2 * np.pi * data[col]/data[col].max())\n",
        "\n",
        "    return data"
      ],
      "id": "fzznCo_RdkA8"
    },
    {
      "cell_type": "code",
      "execution_count": null,
      "metadata": {
        "id": "UpGoTy4TdkA8"
      },
      "outputs": [],
      "source": [
        "### BUILD DATAFRAME OF EXTERNAL VARIABLES ###\n",
        "\n",
        "df = cycle_encode(df,['Tourism','Population'])\n",
        "df.drop(['Tourism','Population'],axis=1,inplace=True)\n",
        "n_attr = 10\n",
        "n_tres = 9\n",
        "df.head(15)\n",
        "\n",
        "# df_external['month'] = df_external.date.dt.month\n",
        "# df_external['day'] = df_external.date.dt.dayofweek\n",
        "# df_external['hour'] = df_external.date.dt.hour\n",
        "\n",
        "# df_external = cycle_encode(df_external, ['month','day','hour'])\n",
        "# df_external.drop(['month','day','hour'], axis=1, inplace=True)\n",
        "# df_external.set_index('date', inplace=True)\n",
        "\n",
        "# print(df_external.shape)\n",
        "# df_external.head()"
      ],
      "id": "UpGoTy4TdkA8"
    },
    {
      "cell_type": "code",
      "execution_count": null,
      "metadata": {
        "id": "Evy0AMnedkA9"
      },
      "outputs": [],
      "source": [
        "### SPLIT TRAIN TEST ###\n",
        "\n",
        "train, test = train_test_split(df, shuffle=False, train_size=0.8)\n",
        "train_ext, test_ext = train_test_split(df_external, shuffle=False, train_size=0.8)\n",
        "\n",
        "print(train.shape, test.shape)\n",
        "print(train_ext.shape, test_ext.shape)"
      ],
      "id": "Evy0AMnedkA9"
    },
    {
      "cell_type": "code",
      "execution_count": null,
      "metadata": {
        "id": "2KsRY4S1dkA9"
      },
      "outputs": [],
      "source": [
        "### PLOTTING UTILITY FUNCTIONS ###\n",
        "\n",
        "def plot_sensor(name):\n",
        "\n",
        "    plt.figure(figsize=(16,4))\n",
        "\n",
        "    plt.plot(train.index, train[name], label='train')\n",
        "    plt.plot(test.index, test[name], label='test')\n",
        "    plt.ylabel(name); plt.legend()\n",
        "    plt.show()\n",
        "\n",
        "def plot_autocor(name, df):\n",
        "\n",
        "    plt.figure(figsize=(16,4))\n",
        "\n",
        "    # pd.plotting.autocorrelation_plot(df[name])\n",
        "    # plt.title(name)\n",
        "    # plt.show()\n",
        "\n",
        "    timeLags = np.arange(1,100*24)\n",
        "    plt.plot([df[name].autocorr(dt) for dt in timeLags])\n",
        "    plt.title(name); plt.ylabel('autocorr'); plt.xlabel('time lags')\n",
        "    plt.show()"
      ],
      "id": "2KsRY4S1dkA9"
    },
    {
      "cell_type": "code",
      "execution_count": null,
      "metadata": {
        "id": "2phS3vEudkA-",
        "scrolled": true
      },
      "outputs": [],
      "source": [
        "### PLOT ORIGINAL SERIES ###\n",
        "\n",
        "for col in df.columns:\n",
        "    plot_sensor(col)"
      ],
      "id": "2phS3vEudkA-"
    },
    {
      "cell_type": "code",
      "execution_count": null,
      "metadata": {
        "id": "avAZR2QcdkA-",
        "scrolled": true
      },
      "outputs": [],
      "source": [
        "### PLOT AUTOCORRELATION ###\n",
        "\n",
        "for col in df.columns:\n",
        "    plot_autocor(col, train)"
      ],
      "id": "avAZR2QcdkA-"
    },
    {
      "cell_type": "code",
      "execution_count": null,
      "metadata": {
        "id": "N6vHRPZDdkA_"
      },
      "outputs": [],
      "source": [
        "### FIND BEST VAR ORDER ###\n",
        "\n",
        "AIC = {}\n",
        "best_aic, best_order = np.inf, 0\n",
        "for i in tqdm(range(1,3)):\n",
        "    model = VAR(endog=train.values)\n",
        "    model_result = model.fit(maxlags=i)\n",
        "    AIC[i] = model_result.aic\n",
        "\n",
        "    if AIC[i] < best_aic:\n",
        "        best_aic = AIC[i]\n",
        "        best_order = i\n",
        "\n",
        "print('BEST ORDER:', best_order, 'BEST AIC:', best_aic)"
      ],
      "id": "N6vHRPZDdkA_"
    },
    {
      "cell_type": "code",
      "execution_count": null,
      "metadata": {
        "id": "miyQlsPGdkA_"
      },
      "outputs": [],
      "source": [
        "### PLOT AICs ###\n",
        "\n",
        "plt.figure(figsize=(14,5))\n",
        "plt.plot(range(len(AIC)), list(AIC.values()))\n",
        "plt.plot([best_order-1], [best_aic], marker='o', markersize=8, color=\"red\")\n",
        "plt.xticks(range(0,len(AIC), 2), range(1,100, 2), rotation=90)\n",
        "plt.xlabel('lags'); plt.ylabel('AIC')\n",
        "np.set_printoptions(False)"
      ],
      "id": "miyQlsPGdkA_"
    },
    {
      "cell_type": "code",
      "execution_count": null,
      "metadata": {
        "id": "wb0X4pVCdkBA"
      },
      "outputs": [],
      "source": [
        "### FIT FINAL VAR WITH LAG CORRESPONTING TO THE BEST AIC ###\n",
        "\n",
        "var = VAR(endog=train.values)\n",
        "var_result = var.fit(maxlags=best_order)\n",
        "var_result.aic"
      ],
      "id": "wb0X4pVCdkBA"
    },
    {
      "cell_type": "markdown",
      "metadata": {
        "id": "W2PdgFKDdkBA"
      },
      "source": [
        "# COMBINE VAR AND LSTM"
      ],
      "id": "W2PdgFKDdkBA"
    },
    {
      "cell_type": "code",
      "execution_count": null,
      "metadata": {
        "id": "l9jydZd8dkBB"
      },
      "outputs": [],
      "source": [
        "### UTILITY FUNCTIONS FOR NEURAL NETWORK TRAINING ###\n",
        "\n",
        "\n",
        "def create_windows(data, window_shape, step = 1, start_id = None, end_id = None):\n",
        "\n",
        "    data = np.asarray(data)\n",
        "    data = data.reshape(-1,1) if np.prod(data.shape) == max(data.shape) else data\n",
        "\n",
        "    start_id = 0 if start_id is None else start_id\n",
        "    end_id = data.shape[0] if end_id is None else end_id\n",
        "\n",
        "    data = data[int(start_id):int(end_id),:]\n",
        "    window_shape = (int(window_shape), data.shape[-1])\n",
        "    step = (int(step),) * data.ndim\n",
        "    slices = tuple(slice(None, None, st) for st in step)\n",
        "    indexing_strides = data[slices].strides\n",
        "    win_indices_shape = ((np.array(data.shape) - window_shape) // step) + 1\n",
        "\n",
        "    new_shape = tuple(list(win_indices_shape) + list(window_shape))\n",
        "    strides = tuple(list(indexing_strides) + list(data.strides))\n",
        "\n",
        "    window_data = np.lib.stride_tricks.as_strided(data, shape=new_shape, strides=strides)\n",
        "\n",
        "    return np.squeeze(window_data, 1)\n",
        "\n",
        "\n",
        "def set_seed(seed):\n",
        "\n",
        "    tf.random.set_seed(seed)\n",
        "    os.environ['PYTHONHASHSEED'] = str(seed)\n",
        "    np.random.seed(seed)\n",
        "    random.seed(seed)\n",
        "\n",
        "\n",
        "def get_model(param, look_ahead, look_back):\n",
        "\n",
        "    set_seed(33)\n",
        "\n",
        "    opt = Adam()\n",
        "    opt.lr = param['lr']\n",
        "\n",
        "    inp = Input(shape=(look_back, n_attr))\n",
        "\n",
        "    x = LSTM(param['units_lstm'], activation='tanh')(inp)\n",
        "    x = RepeatVector(look_ahead)(x)\n",
        "    x = LSTM(param['units_lstm'], activation='tanh', return_sequences=True)(x)\n",
        "    out = TimeDistributed(Dense(n_tres))(x)\n",
        "\n",
        "    model = Model(inp, out)\n",
        "    model.compile(optimizer=opt, loss='mse')\n",
        "\n",
        "    return model\n",
        "\n",
        "\n",
        "def get_model_finetune(param, kgs, look_ahead, look_back):\n",
        "\n",
        "    set_seed(33)\n",
        "\n",
        "    best_model_config = get_model(kgs.best_params, look_ahead, look_back)\n",
        "    best_model_config.set_weights(kgs.best_model.get_weights())\n",
        "\n",
        "    best_model_config.optimizer.lr = param['lr']\n",
        "\n",
        "    return best_model_config"
      ],
      "id": "l9jydZd8dkBB"
    },
    {
      "cell_type": "code",
      "execution_count": null,
      "metadata": {
        "id": "6Ca_YI_PdkBC"
      },
      "outputs": [],
      "source": [
        "### DEFINE GRIDS FOR HYPERPARAM TUNING ###\n",
        "\n",
        "param_grid = {\n",
        "    'units_lstm': [256, 128, 96],\n",
        "    'lr': [7e-4, 1e-3, 3e-3],\n",
        "    'epochs': 200,\n",
        "    'batch_size': [512, 1024]\n",
        "}\n",
        "\n",
        "param_grid_finetune = {\n",
        "    'lr': stats.loguniform(1e-5, 0.025),\n",
        "    'epochs': 200,\n",
        "}"
      ],
      "id": "6Ca_YI_PdkBC"
    },
    {
      "cell_type": "code",
      "execution_count": null,
      "metadata": {
        "id": "Va7-Au7edkBC"
      },
      "outputs": [],
      "source": [
        "### GET TRAIN VALIDATION AND TEST DATA FOR NEURAL NETWORK ###\n",
        "\n",
        "y_train = train.iloc[best_order:].values\n",
        "y_train_var = var_result.fittedvalues\n",
        "\n",
        "X_train = np.concatenate([\n",
        "    train.iloc[best_order:].values, train_ext.iloc[best_order:].values], axis=1)\n",
        "X_train_var = np.concatenate([\n",
        "    var_result.fittedvalues, train_ext.iloc[best_order:].values], axis=1)\n",
        "\n",
        "X_train, X_val, y_train, y_val = train_test_split(\n",
        "    X_train, y_train, shuffle=False, train_size=0.8)\n",
        "X_train_var, X_val_var, y_train_var, y_val_var = train_test_split(\n",
        "    X_train_var, y_train_var, shuffle=False, train_size=0.8)\n",
        "\n",
        "y_test = test.values\n",
        "X_test = np.concatenate([test.values, test_ext.values], axis=1)\n",
        "\n",
        "print(X_train.shape, X_val.shape, X_test.shape)\n",
        "print(X_train_var.shape, X_val_var.shape)\n",
        "\n",
        "print(y_train.shape, y_val.shape, y_test.shape)\n",
        "print(y_train_var.shape, y_val_var.shape)"
      ],
      "id": "Va7-Au7edkBC"
    },
    {
      "cell_type": "code",
      "execution_count": null,
      "metadata": {
        "id": "pjebx_yidkBD"
      },
      "outputs": [],
      "source": [
        "### SCALE DATA ###\n",
        "\n",
        "scaler = StandardScaler()\n",
        "scaler_y = StandardScaler()\n",
        "scaler_var = StandardScaler()\n",
        "scaler_y_var = StandardScaler()\n",
        "\n",
        "y_train = scaler_y.fit_transform(y_train)\n",
        "y_val = scaler_y.transform(y_val)\n",
        "\n",
        "y_train_var = scaler_y_var.fit_transform(y_train_var)\n",
        "y_val_var = scaler_y_var.transform(y_val_var)\n",
        "\n",
        "X_train = scaler.fit_transform(X_train)\n",
        "X_val = scaler.transform(X_val)\n",
        "X_test = scaler.transform(X_test)\n",
        "\n",
        "X_train_var = scaler_var.fit_transform(X_train_var)\n",
        "X_val_var = scaler_var.transform(X_val_var)"
      ],
      "id": "pjebx_yidkBD"
    },
    {
      "cell_type": "code",
      "execution_count": null,
      "metadata": {
        "id": "N6yPRatudkBD"
      },
      "outputs": [],
      "source": [
        "### BUILD DATA GENERATOR ###\n",
        "\n",
        "look_back = 3\n",
        "look_ahead = 6\n",
        "\n",
        "X_train = create_windows(X_train, window_shape = look_back, end_id = -look_ahead)\n",
        "y_train = create_windows(y_train, window_shape = look_ahead, start_id = look_back)\n",
        "X_train_var = create_windows(X_train_var, window_shape = look_back, end_id = -look_ahead)\n",
        "y_train_var = create_windows(y_train_var, window_shape = look_ahead, start_id = look_back)\n",
        "\n",
        "X_val = create_windows(X_val, window_shape = look_back, end_id = -look_ahead)\n",
        "y_val = create_windows(y_val, window_shape = look_ahead, start_id = look_back)\n",
        "X_val_var = create_windows(X_val_var, window_shape = look_back, end_id = -look_ahead)\n",
        "y_val_var = create_windows(y_val_var, window_shape = look_ahead, start_id = look_back)\n",
        "X_fut = X_test\n",
        "X_test = create_windows(X_test, window_shape = look_back, end_id = -look_ahead)\n",
        "y_test = create_windows(y_test, window_shape = look_ahead, start_id = look_back)\n",
        "\n",
        "X_fut_pred = create_windows(X_fut[4:], window_shape = look_back, end_id = -look_ahead)\n",
        "print(X_train.shape, X_val.shape, X_test.shape)\n",
        "print(X_train_var.shape, X_val_var.shape)\n",
        "\n",
        "print(y_train.shape, y_val.shape, y_test.shape)\n",
        "print(y_train_var.shape, y_val_var.shape)"
      ],
      "id": "N6yPRatudkBD"
    },
    {
      "cell_type": "code",
      "execution_count": null,
      "metadata": {
        "colab": {
          "background_save": true
        },
        "id": "_IgQQFVhdkBE",
        "scrolled": true,
        "outputId": "4043e628-1670-499d-a430-8781e93b9a73"
      },
      "outputs": [
        {
          "name": "stdout",
          "output_type": "stream",
          "text": [
            "\n",
            "18 trials detected for ('units_lstm', 'lr', 'epochs', 'batch_size')\n",
            "\n",
            "***** (1/18) *****\n",
            "Search({'units_lstm': 256, 'lr': 0.0007, 'epochs': 200, 'batch_size': 512})\n",
            "SCORE: 1.98514 at epoch 16\n",
            "\n",
            "***** (2/18) *****\n",
            "Search({'units_lstm': 256, 'lr': 0.0007, 'epochs': 200, 'batch_size': 1024})\n",
            "SCORE: 1.98514 at epoch 16\n",
            "\n",
            "***** (3/18) *****\n",
            "Search({'units_lstm': 256, 'lr': 0.003, 'epochs': 200, 'batch_size': 512})\n",
            "SCORE: 1.68201 at epoch 15\n",
            "\n",
            "***** (4/18) *****\n",
            "Search({'units_lstm': 256, 'lr': 0.003, 'epochs': 200, 'batch_size': 1024})\n",
            "SCORE: 1.68201 at epoch 15\n",
            "\n",
            "***** (5/18) *****\n",
            "Search({'units_lstm': 256, 'lr': 0.001, 'epochs': 200, 'batch_size': 512})\n",
            "SCORE: 1.7686 at epoch 33\n",
            "\n",
            "***** (6/18) *****\n",
            "Search({'units_lstm': 256, 'lr': 0.001, 'epochs': 200, 'batch_size': 1024})\n",
            "SCORE: 1.7686 at epoch 33\n",
            "\n",
            "***** (7/18) *****\n",
            "Search({'units_lstm': 96, 'lr': 0.0007, 'epochs': 200, 'batch_size': 512})\n",
            "SCORE: 1.67965 at epoch 58\n",
            "\n",
            "***** (8/18) *****\n",
            "Search({'units_lstm': 96, 'lr': 0.0007, 'epochs': 200, 'batch_size': 1024})\n",
            "SCORE: 1.67965 at epoch 58\n",
            "\n",
            "***** (9/18) *****\n",
            "Search({'units_lstm': 96, 'lr': 0.003, 'epochs': 200, 'batch_size': 512})\n",
            "SCORE: 1.5911 at epoch 20\n",
            "\n",
            "***** (10/18) *****\n",
            "Search({'units_lstm': 96, 'lr': 0.003, 'epochs': 200, 'batch_size': 1024})\n",
            "SCORE: 1.5911 at epoch 20\n",
            "\n",
            "***** (11/18) *****\n",
            "Search({'units_lstm': 96, 'lr': 0.001, 'epochs': 200, 'batch_size': 512})\n",
            "SCORE: 1.65418 at epoch 45\n",
            "\n",
            "***** (12/18) *****\n",
            "Search({'units_lstm': 96, 'lr': 0.001, 'epochs': 200, 'batch_size': 1024})\n",
            "SCORE: 1.65418 at epoch 45\n",
            "\n",
            "***** (13/18) *****\n",
            "Search({'units_lstm': 128, 'lr': 0.0007, 'epochs': 200, 'batch_size': 512})\n",
            "SCORE: 1.69693 at epoch 50\n",
            "\n",
            "***** (14/18) *****\n",
            "Search({'units_lstm': 128, 'lr': 0.0007, 'epochs': 200, 'batch_size': 1024})\n",
            "SCORE: 1.69693 at epoch 50\n",
            "\n",
            "***** (15/18) *****\n",
            "Search({'units_lstm': 128, 'lr': 0.003, 'epochs': 200, 'batch_size': 512})\n",
            "SCORE: 1.61257 at epoch 18\n",
            "\n",
            "***** (16/18) *****\n",
            "Search({'units_lstm': 128, 'lr': 0.003, 'epochs': 200, 'batch_size': 1024})\n",
            "SCORE: 1.61257 at epoch 18\n",
            "\n",
            "***** (17/18) *****\n",
            "Search({'units_lstm': 128, 'lr': 0.001, 'epochs': 200, 'batch_size': 512})\n",
            "SCORE: 1.67506 at epoch 39\n",
            "\n",
            "***** (18/18) *****\n",
            "Search({'units_lstm': 128, 'lr': 0.001, 'epochs': 200, 'batch_size': 1024})\n",
            "SCORE: 1.67506 at epoch 39\n"
          ]
        },
        {
          "data": {
            "text/plain": [
              "<kerashypetune.kerashypetune.KerasGridSearch at 0x7f93ccc67cd0>"
            ]
          },
          "execution_count": null,
          "metadata": {},
          "output_type": "execute_result"
        }
      ],
      "source": [
        "### FIT WITH HYPERPARAM TUNING ON VAR FITTED VALUES ###\n",
        "\n",
        "es = EarlyStopping(patience=5, verbose=0, min_delta=0.001, monitor='val_loss', mode='auto', restore_best_weights=True)\n",
        "\n",
        "hypermodel = lambda x: get_model(param=x, look_ahead=look_ahead, look_back=look_back)\n",
        "\n",
        "kgs_var = KerasGridSearch(hypermodel, param_grid,\n",
        "                          monitor='val_loss', greater_is_better=False, tuner_verbose=1)\n",
        "\n",
        "kgs_var.search(X_train_var, y_train_var, validation_data=(X_val_var, y_val_var), callbacks=[es])"
      ],
      "id": "_IgQQFVhdkBE"
    },
    {
      "cell_type": "code",
      "execution_count": null,
      "metadata": {
        "colab": {
          "background_save": true
        },
        "id": "mBz9WdeSdkBE",
        "scrolled": true,
        "outputId": "58580df4-d439-4e4f-a2a1-efc131434550"
      },
      "outputs": [
        {
          "name": "stdout",
          "output_type": "stream",
          "text": [
            "\n",
            "20 trials detected for ('lr', 'epochs')\n",
            "\n",
            "***** (1/20) *****\n",
            "Search({'lr': 0.0003857635118975211, 'epochs': 200})\n",
            "SCORE: 1.37058 at epoch 14\n",
            "\n",
            "***** (2/20) *****\n",
            "Search({'lr': 0.0005714173878534292, 'epochs': 200})\n",
            "SCORE: 1.36898 at epoch 11\n",
            "\n",
            "***** (3/20) *****\n",
            "Search({'lr': 7.740755538615648e-05, 'epochs': 200})\n",
            "SCORE: 1.3792 at epoch 49\n",
            "\n",
            "***** (4/20) *****\n",
            "Search({'lr': 0.0016506606834983432, 'epochs': 200})\n",
            "SCORE: 1.36275 at epoch 5\n",
            "\n",
            "***** (5/20) *****\n",
            "Search({'lr': 0.0028975199561219536, 'epochs': 200})\n",
            "SCORE: 1.36056 at epoch 4\n",
            "\n",
            "***** (6/20) *****\n",
            "Search({'lr': 7.456687844809637e-05, 'epochs': 200})\n",
            "SCORE: 1.3794 at epoch 51\n",
            "\n",
            "***** (7/20) *****\n",
            "Search({'lr': 0.0009501006290131641, 'epochs': 200})\n",
            "SCORE: 1.36673 at epoch 7\n",
            "\n",
            "***** (8/20) *****\n",
            "Search({'lr': 1.8215739071153037e-05, 'epochs': 200})\n",
            "SCORE: 1.38636 at epoch 127\n",
            "\n",
            "***** (9/20) *****\n",
            "Search({'lr': 3.052974383613633e-05, 'epochs': 200})\n",
            "SCORE: 1.38358 at epoch 95\n",
            "\n",
            "***** (10/20) *****\n",
            "Search({'lr': 9.772977050450925e-05, 'epochs': 200})\n",
            "SCORE: 1.3779 at epoch 41\n",
            "\n",
            "***** (11/20) *****\n",
            "Search({'lr': 1.68507996212125e-05, 'epochs': 200})\n",
            "SCORE: 1.38711 at epoch 129\n",
            "\n",
            "***** (12/20) *****\n",
            "Search({'lr': 0.0003855108053380281, 'epochs': 200})\n",
            "SCORE: 1.37059 at epoch 14\n",
            "\n",
            "***** (13/20) *****\n",
            "Search({'lr': 0.0017579741001972362, 'epochs': 200})\n",
            "SCORE: 1.36233 at epoch 5\n",
            "\n",
            "***** (14/20) *****\n",
            "Search({'lr': 0.0018173601047210032, 'epochs': 200})\n",
            "SCORE: 1.36226 at epoch 5\n",
            "\n",
            "***** (15/20) *****\n",
            "Search({'lr': 0.005716863260955787, 'epochs': 200})\n",
            "SCORE: 1.36093 at epoch 1\n",
            "\n",
            "***** (16/20) *****\n",
            "Search({'lr': 0.01166811134650092, 'epochs': 200})\n",
            "SCORE: 1.35134 at epoch 1\n",
            "\n",
            "***** (17/20) *****\n",
            "Search({'lr': 0.003499459957022834, 'epochs': 200})\n",
            "SCORE: 1.36452 at epoch 4\n",
            "\n",
            "***** (18/20) *****\n",
            "Search({'lr': 0.015327975761504596, 'epochs': 200})\n",
            "SCORE: 1.20835 at epoch 13\n",
            "\n",
            "***** (19/20) *****\n",
            "Search({'lr': 0.0029263266563913887, 'epochs': 200})\n",
            "SCORE: 1.36065 at epoch 4\n",
            "\n",
            "***** (20/20) *****\n",
            "Search({'lr': 1.0416379983085768e-05, 'epochs': 200})\n",
            "SCORE: 1.39526 at epoch 105\n"
          ]
        },
        {
          "data": {
            "text/plain": [
              "<kerashypetune.kerashypetune.KerasRandomSearch at 0x7f93b8f91950>"
            ]
          },
          "execution_count": null,
          "metadata": {},
          "output_type": "execute_result"
        }
      ],
      "source": [
        "### FIT WITH HYPERPARAM TUNING ON RAW VALUES (AFTER THE TRAIN ON VAR FITTED VALUES) ###\n",
        "\n",
        "es = EarlyStopping(patience=10, verbose=0, min_delta=0.001, monitor='val_loss', mode='auto', restore_best_weights=True)\n",
        "\n",
        "hypermodel = lambda x: get_model_finetune(param=x, kgs=kgs_var, look_ahead=look_ahead, look_back=look_back)\n",
        "\n",
        "krs_ft = KerasRandomSearch(hypermodel, param_grid_finetune, n_iter=20, sampling_seed=33,\n",
        "                           monitor='val_loss', greater_is_better=False, tuner_verbose=1)\n",
        "krs_ft.search(X_train, y_train, batch_size=kgs_var.best_params['batch_size'],\n",
        "              validation_data=(X_val, y_val), callbacks=[es])"
      ],
      "id": "mBz9WdeSdkBE"
    },
    {
      "cell_type": "code",
      "execution_count": null,
      "metadata": {
        "colab": {
          "background_save": true
        },
        "id": "itOVS8DGdkBE"
      },
      "outputs": [],
      "source": [
        "### OBTAIN PREDICTIONS AND RETRIVE ORIGINAL DATA ###\n",
        "\n",
        "pred_lstm_var = krs_ft.best_model.predict(X_test)\n",
        "pred_lstm_var = scaler_y.inverse_transform(pred_lstm_var.reshape(-1, pred_lstm_var.shape[-1])).reshape(pred_lstm_var.shape)"
      ],
      "id": "itOVS8DGdkBE"
    },
    {
      "cell_type": "code",
      "execution_count": null,
      "metadata": {
        "colab": {
          "background_save": true
        },
        "id": "sV7sJJPCdkBF",
        "scrolled": true,
        "outputId": "571a09fc-cf09-4f20-83ce-dc49df39ca1a"
      },
      "outputs": [
        {
          "name": "stdout",
          "output_type": "stream",
          "text": [
            "\n",
            "18 trials detected for ('units_lstm', 'lr', 'epochs', 'batch_size')\n",
            "\n",
            "***** (1/18) *****\n",
            "Search({'units_lstm': 256, 'lr': 0.0007, 'epochs': 200, 'batch_size': 512})\n",
            "SCORE: 1.98514 at epoch 16\n",
            "\n",
            "***** (2/18) *****\n",
            "Search({'units_lstm': 256, 'lr': 0.0007, 'epochs': 200, 'batch_size': 1024})\n",
            "SCORE: 1.98514 at epoch 16\n",
            "\n",
            "***** (3/18) *****\n",
            "Search({'units_lstm': 256, 'lr': 0.003, 'epochs': 200, 'batch_size': 512})\n",
            "SCORE: 1.68201 at epoch 15\n",
            "\n",
            "***** (4/18) *****\n",
            "Search({'units_lstm': 256, 'lr': 0.003, 'epochs': 200, 'batch_size': 1024})\n",
            "SCORE: 1.68201 at epoch 15\n",
            "\n",
            "***** (5/18) *****\n",
            "Search({'units_lstm': 256, 'lr': 0.001, 'epochs': 200, 'batch_size': 512})\n",
            "SCORE: 1.7686 at epoch 33\n",
            "\n",
            "***** (6/18) *****\n",
            "Search({'units_lstm': 256, 'lr': 0.001, 'epochs': 200, 'batch_size': 1024})\n",
            "SCORE: 1.7686 at epoch 33\n",
            "\n",
            "***** (7/18) *****\n",
            "Search({'units_lstm': 96, 'lr': 0.0007, 'epochs': 200, 'batch_size': 512})\n",
            "SCORE: 1.67965 at epoch 58\n",
            "\n",
            "***** (8/18) *****\n",
            "Search({'units_lstm': 96, 'lr': 0.0007, 'epochs': 200, 'batch_size': 1024})\n",
            "SCORE: 1.67965 at epoch 58\n",
            "\n",
            "***** (9/18) *****\n",
            "Search({'units_lstm': 96, 'lr': 0.003, 'epochs': 200, 'batch_size': 512})\n",
            "SCORE: 1.5911 at epoch 20\n",
            "\n",
            "***** (10/18) *****\n",
            "Search({'units_lstm': 96, 'lr': 0.003, 'epochs': 200, 'batch_size': 1024})\n",
            "SCORE: 1.5911 at epoch 20\n",
            "\n",
            "***** (11/18) *****\n",
            "Search({'units_lstm': 96, 'lr': 0.001, 'epochs': 200, 'batch_size': 512})\n",
            "SCORE: 1.65418 at epoch 45\n",
            "\n",
            "***** (12/18) *****\n",
            "Search({'units_lstm': 96, 'lr': 0.001, 'epochs': 200, 'batch_size': 1024})\n",
            "SCORE: 1.65418 at epoch 45\n",
            "\n",
            "***** (13/18) *****\n",
            "Search({'units_lstm': 128, 'lr': 0.0007, 'epochs': 200, 'batch_size': 512})\n",
            "SCORE: 1.69693 at epoch 50\n",
            "\n",
            "***** (14/18) *****\n",
            "Search({'units_lstm': 128, 'lr': 0.0007, 'epochs': 200, 'batch_size': 1024})\n",
            "SCORE: 1.69693 at epoch 50\n",
            "\n",
            "***** (15/18) *****\n",
            "Search({'units_lstm': 128, 'lr': 0.003, 'epochs': 200, 'batch_size': 512})\n",
            "SCORE: 1.61257 at epoch 18\n",
            "\n",
            "***** (16/18) *****\n",
            "Search({'units_lstm': 128, 'lr': 0.003, 'epochs': 200, 'batch_size': 1024})\n",
            "SCORE: 1.61257 at epoch 18\n",
            "\n",
            "***** (17/18) *****\n",
            "Search({'units_lstm': 128, 'lr': 0.001, 'epochs': 200, 'batch_size': 512})\n",
            "SCORE: 1.67506 at epoch 39\n",
            "\n",
            "***** (18/18) *****\n",
            "Search({'units_lstm': 128, 'lr': 0.001, 'epochs': 200, 'batch_size': 1024})\n",
            "SCORE: 1.67506 at epoch 39\n"
          ]
        },
        {
          "data": {
            "text/plain": [
              "<kerashypetune.kerashypetune.KerasGridSearch at 0x7f93cce2b0d0>"
            ]
          },
          "execution_count": null,
          "metadata": {},
          "output_type": "execute_result"
        }
      ],
      "source": [
        "### FIT WITH HYPERPARAM TUNING ON RAW VALUES ###\n",
        "\n",
        "es = EarlyStopping(patience=5, verbose=0, min_delta=0.001, monitor='val_loss', mode='auto', restore_best_weights=True)\n",
        "\n",
        "hypermodel = lambda x: get_model(param=x, look_ahead=look_ahead, look_back=look_back)\n",
        "\n",
        "kgs = KerasGridSearch(hypermodel, param_grid,\n",
        "                      monitor='val_loss', greater_is_better=False, tuner_verbose=1)\n",
        "kgs.search(X_train_var, y_train_var, validation_data=(X_val_var, y_val_var), callbacks=[es])"
      ],
      "id": "sV7sJJPCdkBF"
    },
    {
      "cell_type": "code",
      "execution_count": null,
      "metadata": {
        "colab": {
          "background_save": true
        },
        "id": "_Y82Yr4nBs_V",
        "outputId": "72ff45a9-99ed-4430-c692-69bc33de268a"
      },
      "outputs": [
        {
          "data": {
            "text/plain": [
              "array([[[ 2., -3., -1.,  2., -2., -1., -1.,  2.,  3.,  3.],\n",
              "        [ 2., -0., -1.,  2., -2., -2., -0.,  2.,  3.,  3.],\n",
              "        [ 2., -1., -1.,  2., -2., -2.,  0.,  2.,  3.,  3.]],\n",
              "\n",
              "       [[ 2., -0., -1.,  2., -2., -2., -0.,  2.,  3.,  3.],\n",
              "        [ 2., -1., -1.,  2., -2., -2.,  0.,  2.,  3.,  3.],\n",
              "        [ 1., -1., -1.,  2., -2., -2.,  1.,  2.,  3.,  3.]],\n",
              "\n",
              "       [[ 2., -1., -1.,  2., -2., -2.,  0.,  2.,  3.,  3.],\n",
              "        [ 1., -1., -1.,  2., -2., -2.,  1.,  2.,  3.,  3.],\n",
              "        [ 0., -1., -1.,  2., -2., -2.,  1.,  3.,  3.,  3.]],\n",
              "\n",
              "       [[ 1., -1., -1.,  2., -2., -2.,  1.,  2.,  3.,  3.],\n",
              "        [ 0., -1., -1.,  2., -2., -2.,  1.,  3.,  3.,  3.],\n",
              "        [-0., -1., -1.,  4., -2., -1.,  2.,  3.,  3.,  3.]],\n",
              "\n",
              "       [[ 0., -1., -1.,  2., -2., -2.,  1.,  3.,  3.,  3.],\n",
              "        [-0., -1., -1.,  4., -2., -1.,  2.,  3.,  3.,  3.],\n",
              "        [-1., -0., -1.,  2., -2., -1.,  2.,  3.,  3.,  3.]]])"
            ]
          },
          "execution_count": null,
          "metadata": {},
          "output_type": "execute_result"
        }
      ],
      "source": [
        "X_test"
      ],
      "id": "_Y82Yr4nBs_V"
    },
    {
      "cell_type": "code",
      "execution_count": null,
      "metadata": {
        "colab": {
          "background_save": true
        },
        "id": "RP6IOKbGdkBF"
      },
      "outputs": [],
      "source": [
        "### OBTAIN PREDICTIONS ###\n",
        "\n",
        "pred_lstm = kgs.best_model.predict(X_test)\n",
        "pred_lstm = scaler_y.inverse_transform(pred_lstm.reshape(-1, pred_lstm.shape[-1])).reshape(pred_lstm.shape)"
      ],
      "id": "RP6IOKbGdkBF"
    },
    {
      "cell_type": "code",
      "execution_count": null,
      "metadata": {
        "colab": {
          "background_save": true
        },
        "id": "j3XmnOcrdkBF",
        "outputId": "284bcf03-ea57-4bd4-ae57-3c5206055af3"
      },
      "outputs": [
        {
          "data": {
            "text/plain": [
              "([4.73630020942979,\n",
              "  4.524205909208183,\n",
              "  4.44141464123625,\n",
              "  4.949569147531496,\n",
              "  5.384254930262798,\n",
              "  5.318823044415024,\n",
              "  5.012129313144429,\n",
              "  5.003967788485971,\n",
              "  4.970896286240548,\n",
              "  4.964329145890009],\n",
              " [8.030856,\n",
              "  7.8355064,\n",
              "  7.60787,\n",
              "  7.3873305,\n",
              "  7.199026,\n",
              "  7.0526686,\n",
              "  7.362888,\n",
              "  7.3801484,\n",
              "  7.5922966,\n",
              "  7.6251388],\n",
              " [8.2483835,\n",
              "  7.7141166,\n",
              "  6.928866,\n",
              "  6.2750587,\n",
              "  5.9157724,\n",
              "  5.7924104,\n",
              "  6.1322937,\n",
              "  6.044923,\n",
              "  6.142751,\n",
              "  6.216997])"
            ]
          },
          "execution_count": null,
          "metadata": {},
          "output_type": "execute_result"
        }
      ],
      "source": [
        "### COMPUTE METRICS ON TEST DATA ###\n",
        "\n",
        "error_lstm, error_var_lstm = {}, {}\n",
        "error_baseline = {}\n",
        "unemploy1,unemploy2,unemploy3 = [],[],[]\n",
        "y1,y2,y3= [],[],[]\n",
        "for i,col in enumerate(df.columns):\n",
        "  error = mean_squared_error(y_test[...,i], pred_lstm[...,i])\n",
        "  error_lstm[col] = error\n",
        "  error = mean_squared_error(y_test[...,i], pred_lstm_var[...,i])\n",
        "  error_var_lstm[col] = error\n",
        "  if col==column_matter:\n",
        "    kr = True\n",
        "    for a,b,c in zip(y_test[...,i],pred_lstm[...,i],pred_lstm_var[...,i]):\n",
        "      if kr:\n",
        "        y1.extend(a)\n",
        "        y2.extend(b)\n",
        "        y3.extend(c)\n",
        "        kr = False\n",
        "      else:\n",
        "        y1.append(a[-1])\n",
        "        y2.append(b[-1])\n",
        "        y3.append(c[-1])\n",
        "  if col=='Inflation':\n",
        "    kr = True\n",
        "    for a,b,c in zip(y_test[...,i],pred_lstm[...,i],pred_lstm_var[...,i]):\n",
        "      if kr:\n",
        "        unemploy1.extend(a)\n",
        "        unemploy2.extend(b)\n",
        "        unemploy3.extend(c)\n",
        "        kr = False\n",
        "      else:\n",
        "        unemploy1.append(a[-1])\n",
        "        unemploy2.append(b[-1])\n",
        "        unemploy3.append(c[-1])\n",
        "y1,y2,y3"
      ],
      "id": "j3XmnOcrdkBF"
    },
    {
      "cell_type": "code",
      "execution_count": null,
      "metadata": {
        "colab": {
          "background_save": true
        },
        "id": "ZB69nfE3fltL",
        "outputId": "8478ddda-ed41-45d0-c3a2-cef17871c857"
      },
      "outputs": [
        {
          "name": "stdout",
          "output_type": "stream",
          "text": [
            "+-------------------+----------------------+---------------------+\n",
            "|     Attribute     | Combined Model Error |      LSTM Error     |\n",
            "+-------------------+----------------------+---------------------+\n",
            "| Unemployment Rate |  0.9373376954216727  |  1.1941642227250375 |\n",
            "| Annual GDP Growth |  7.616641114979284   |  3.3798325188363787 |\n",
            "|     Inflation     |   2.50480775365283   |  8.907706294214753  |\n",
            "|      Poverty      | 0.28434086083224636  |  0.2646938332285585 |\n",
            "|       Murder      |  4.982286781693613   |  7.981749159665359  |\n",
            "|    Tourism_sin    |  0.2638384208603372  | 0.33698270344681563 |\n",
            "|    Tourism_cos    |  3.349109265368518   |  2.501611346450797  |\n",
            "|   Population_sin  |  0.4232407733149721  |  0.441395174669172  |\n",
            "|   Population_cos  |  0.816504524089337   |  1.0431802321113068 |\n",
            "+-------------------+----------------------+---------------------+\n"
          ]
        }
      ],
      "source": [
        "myTable = PrettyTable([\"Attribute\", \"Combined Model Error\", \"LSTM Error\"])\n",
        "for a in error_lstm:\n",
        "  myTable.add_row([a,error_var_lstm[a],error_lstm[a]])\n",
        "print(myTable)"
      ],
      "id": "ZB69nfE3fltL"
    },
    {
      "cell_type": "code",
      "execution_count": null,
      "metadata": {
        "colab": {
          "background_save": true
        },
        "id": "G-lhBluq2eCK",
        "outputId": "5b3475d7-4822-41cd-d6ab-23dfd3260bd5"
      },
      "outputs": [
        {
          "data": {
            "image/png": "[encoded data removed]",
            "text/plain": [
              "<Figure size 648x432 with 1 Axes>"
            ]
          },
          "metadata": {},
          "output_type": "display_data"
        }
      ],
      "source": [
        "y = [i for i in range(2012,2022)]\n",
        "plt.figure(figsize=(9, 6))\n",
        "plt.plot(y,y1, label = \"Original Crime Rate\")\n",
        "plt.plot(y,y3, label = \"Prediction  by the proposed model\")\n",
        "plt.plot(y,y2, label = \"Prediction  by the LSTM\")\n",
        "plt.xlabel(\"Years\")\n",
        "plt.ylabel(\"Crime Rate\")\n",
        "plt.xticks(np.arange(min(y), max(y)+1, 1.0))\n",
        "plt.legend()\n",
        "plt.show()"
      ],
      "id": "G-lhBluq2eCK"
    },
    {
      "cell_type": "code",
      "execution_count": null,
      "metadata": {
        "colab": {
          "background_save": true
        },
        "id": "YTvOqwZPT0La",
        "outputId": "43ba9cda-c3e8-443b-fd1d-68a8c4e21358"
      },
      "outputs": [
        {
          "data": {
            "image/png": "[encoded data removed]",
            "text/plain": [
              "<Figure size 720x504 with 1 Axes>"
            ]
          },
          "metadata": {},
          "output_type": "display_data"
        }
      ],
      "source": [
        "y = [i for i in range(2012,2022)]\n",
        "plt.figure(figsize=(10, 7))\n",
        "plt.plot(y,unemploy1, label = \"Original Crime Rate\")\n",
        "plt.plot(y,unemploy3, label = \"Prediction  by the proposed model\")\n",
        "plt.plot(y,unemploy2, label = \"Prediction  by the LSTM\")\n",
        "plt.xlabel(\"Unemployment Rate\")\n",
        "plt.ylabel(\"Years\")\n",
        "plt.title('Comparison')\n",
        "plt.xticks(np.arange(min(y), max(y)+1, 1.0))\n",
        "plt.legend()\n",
        "plt.show()"
      ],
      "id": "YTvOqwZPT0La"
    },
    {
      "cell_type": "code",
      "execution_count": null,
      "metadata": {
        "colab": {
          "background_save": true
        },
        "id": "C9YnFNCoxJlW",
        "outputId": "f15f7632-180a-48af-ae03-96ff454ab0fb"
      },
      "outputs": [
        {
          "name": "stdout",
          "output_type": "stream",
          "text": [
            "Prediction for the years after 2022:  [6.5113397, 6.2192287, 5.7092457, 5.2986264, 5.0928035, 5.033726]\n"
          ]
        }
      ],
      "source": [
        "last_pred = y3[-1]\n",
        "fut_pred = krs_ft.best_model.predict(X_fut_pred)\n",
        "fut_prediction = []\n",
        "for i,col in enumerate(df.columns):\n",
        "  if col==column_matter:\n",
        "    kr = True\n",
        "    for a in fut_pred[...,i]:\n",
        "      if kr:\n",
        "        fut_prediction.extend(a)\n",
        "        kr = False\n",
        "      else:\n",
        "        fut_prediction.append(a[-1])\n",
        "print(\"Prediction for the years after 2022: \",[last_pred+a for a in fut_prediction])"
      ],
      "id": "C9YnFNCoxJlW"
    },
    {
      "cell_type": "code",
      "execution_count": null,
      "metadata": {
        "colab": {
          "background_save": true
        },
        "id": "vXSr6idY1nd5",
        "outputId": "71b26afa-0aa3-4b36-f9ef-074de23e844f"
      },
      "outputs": [
        {
          "data": {
            "image/png": "[encoded data removed]",
            "text/plain": [
              "<Figure size 504x216 with 1 Axes>"
            ]
          },
          "metadata": {},
          "output_type": "display_data"
        }
      ],
      "source": [
        "victim_wise = [4.98, 7.98]\n",
        "models = ['Proposed Model','LSTM']\n",
        "fig = plt.figure(figsize = (7, 3))\n",
        "plt.bar(models, victim_wise, color ='maroon', width = 0.2)\n",
        "plt.xlabel(\"Models\")\n",
        "plt.ylabel(\"Error\")\n",
        "plt.title(\"Crime Type Wise: Murder\")\n",
        "plt.show()"
      ],
      "id": "vXSr6idY1nd5"
    },
    {
      "cell_type": "code",
      "execution_count": null,
      "metadata": {
        "colab": {
          "background_save": true
        },
        "id": "F7cLXTOF2Hep",
        "outputId": "11cd975b-7769-474b-f5c8-db402a8c77d3"
      },
      "outputs": [
        {
          "name": "stdout",
          "output_type": "stream",
          "text": [
            "[3.5728965, 2.877616, 2.4532108, 2.1598601, 2.0207663, 2.0194798, 2.130462, 2.0700557, 2.2104745, 2.2505796]\n"
          ]
        }
      ],
      "source": [
        "print(unemploy3)"
      ],
      "id": "F7cLXTOF2Hep"
    },
    {
      "cell_type": "code",
      "execution_count": null,
      "metadata": {
        "colab": {
          "background_save": true
        },
        "id": "q9_fhwS38GMb"
      },
      "outputs": [],
      "source": [],
      "id": "q9_fhwS38GMb"
    }
  ],
  "metadata": {
    "colab": {
      "provenance": [],
      "include_colab_link": true
    },
    "kernelspec": {
      "display_name": "Python 3",
      "language": "python",
      "name": "python3"
    },
    "language_info": {
      "codemirror_mode": {
        "name": "ipython",
        "version": 3
      },
      "file_extension": ".py",
      "mimetype": "text/x-python",
      "name": "python",
      "nbconvert_exporter": "python",
      "pygments_lexer": "ipython3",
      "version": "3.7.4"
    },
    "papermill": {
      "default_parameters": {},
      "duration": 2541.440733,
      "end_time": "2021-04-14T15:42:38.747505",
      "environment_variables": {},
      "exception": null,
      "input_path": "__notebook__.ipynb",
      "output_path": "__notebook__.ipynb",
      "parameters": {},
      "start_time": "2021-04-14T15:00:17.306772",
      "version": "2.3.2"
    }
  },
  "nbformat": 4,
  "nbformat_minor": 5
}